{
 "cells": [
  {
   "cell_type": "markdown",
   "metadata": {},
   "source": [
    "# Text Classification\n",
    "Follows the tutorial at tensorflow.org for text classification using the IMDB movie review dataset. Classifies each movie review as either positive or negative.\n",
    "\n",
    "https://www.tensorflow.org/tutorials/keras/basic_text_classification"
   ]
  },
  {
   "cell_type": "code",
   "execution_count": 17,
   "metadata": {},
   "outputs": [],
   "source": [
    "import numpy as np\n",
    "import matplotlib.pyplot as plt\n",
    "import tensorflow as tf\n",
    "from tensorflow import keras"
   ]
  },
  {
   "cell_type": "markdown",
   "metadata": {},
   "source": [
    "## Download the IMDB dataset"
   ]
  },
  {
   "cell_type": "code",
   "execution_count": 2,
   "metadata": {},
   "outputs": [
    {
     "name": "stdout",
     "output_type": "stream",
     "text": [
      "Downloading data from https://storage.googleapis.com/tensorflow/tf-keras-datasets/imdb.npz\n",
      "17465344/17464789 [==============================] - 7s 0us/step\n"
     ]
    }
   ],
   "source": [
    "imdb = keras.datasets.imdb\n",
    "\n",
    "(train_data, train_labels), (test_data, test_labels) = imdb.load_data(num_words=10000)"
   ]
  },
  {
   "cell_type": "markdown",
   "metadata": {},
   "source": [
    "## Explore the data"
   ]
  },
  {
   "cell_type": "code",
   "execution_count": 3,
   "metadata": {},
   "outputs": [
    {
     "name": "stdout",
     "output_type": "stream",
     "text": [
      "Training entries: 25000, labels: 25000\n"
     ]
    }
   ],
   "source": [
    "print(\"Training entries: {}, labels: {}\".format(len(train_data), len(train_labels)))"
   ]
  },
  {
   "cell_type": "markdown",
   "metadata": {},
   "source": [
    "The words in the reviews have been converted into integers (i.e. each integer represents a specific word in a dictionary)."
   ]
  },
  {
   "cell_type": "code",
   "execution_count": 4,
   "metadata": {},
   "outputs": [
    {
     "name": "stdout",
     "output_type": "stream",
     "text": [
      "[1, 14, 22, 16, 43, 530, 973, 1622, 1385, 65, 458, 4468, 66, 3941, 4, 173, 36, 256, 5, 25, 100, 43, 838, 112, 50, 670, 2, 9, 35, 480, 284, 5, 150, 4, 172, 112, 167, 2, 336, 385, 39, 4, 172, 4536, 1111, 17, 546, 38, 13, 447, 4, 192, 50, 16, 6, 147, 2025, 19, 14, 22, 4, 1920, 4613, 469, 4, 22, 71, 87, 12, 16, 43, 530, 38, 76, 15, 13, 1247, 4, 22, 17, 515, 17, 12, 16, 626, 18, 2, 5, 62, 386, 12, 8, 316, 8, 106, 5, 4, 2223, 5244, 16, 480, 66, 3785, 33, 4, 130, 12, 16, 38, 619, 5, 25, 124, 51, 36, 135, 48, 25, 1415, 33, 6, 22, 12, 215, 28, 77, 52, 5, 14, 407, 16, 82, 2, 8, 4, 107, 117, 5952, 15, 256, 4, 2, 7, 3766, 5, 723, 36, 71, 43, 530, 476, 26, 400, 317, 46, 7, 4, 2, 1029, 13, 104, 88, 4, 381, 15, 297, 98, 32, 2071, 56, 26, 141, 6, 194, 7486, 18, 4, 226, 22, 21, 134, 476, 26, 480, 5, 144, 30, 5535, 18, 51, 36, 28, 224, 92, 25, 104, 4, 226, 65, 16, 38, 1334, 88, 12, 16, 283, 5, 16, 4472, 113, 103, 32, 15, 16, 5345, 19, 178, 32]\n"
     ]
    }
   ],
   "source": [
    "# see the first review in the training dataset\n",
    "print(train_data[0])"
   ]
  },
  {
   "cell_type": "markdown",
   "metadata": {},
   "source": [
    "Movie reviews may have different lengths. Inputs to a neural network must be the same length (will resolve this later)."
   ]
  },
  {
   "cell_type": "code",
   "execution_count": 5,
   "metadata": {},
   "outputs": [
    {
     "data": {
      "text/plain": [
       "(218, 189)"
      ]
     },
     "execution_count": 5,
     "metadata": {},
     "output_type": "execute_result"
    }
   ],
   "source": [
    "# compare length of first & second review in training dataset\n",
    "len(train_data[0]), len(train_data[1])"
   ]
  },
  {
   "cell_type": "code",
   "execution_count": 6,
   "metadata": {},
   "outputs": [
    {
     "name": "stdout",
     "output_type": "stream",
     "text": [
      "Downloading data from https://storage.googleapis.com/tensorflow/tf-keras-datasets/imdb_word_index.json\n",
      "1646592/1641221 [==============================] - 2s 1us/step\n"
     ]
    }
   ],
   "source": [
    "# helper function to convert the integers back to words\n",
    "\n",
    "# A dictionary mapping words to an integer index\n",
    "word_index = imdb.get_word_index()\n",
    "\n",
    "# The first indices are reserved\n",
    "word_index = {k:(v+3) for k,v in word_index.items()} \n",
    "word_index[\"<PAD>\"] = 0\n",
    "word_index[\"<START>\"] = 1\n",
    "word_index[\"<UNK>\"] = 2  # unknown\n",
    "word_index[\"<UNUSED>\"] = 3\n",
    "\n",
    "reverse_word_index = dict([(value, key) for (key, value) in word_index.items()])\n",
    "\n",
    "def decode_review(text):\n",
    "    return ' '.join([reverse_word_index.get(i, '?') for i in text])"
   ]
  },
  {
   "cell_type": "code",
   "execution_count": 7,
   "metadata": {
    "scrolled": true
   },
   "outputs": [
    {
     "data": {
      "text/plain": [
       "\"<START> this film was just brilliant casting location scenery story direction everyone's really suited the part they played and you could just imagine being there robert <UNK> is an amazing actor and now the same being director <UNK> father came from the same scottish island as myself so i loved the fact there was a real connection with this film the witty remarks throughout the film were great it was just brilliant so much that i bought the film as soon as it was released for <UNK> and would recommend it to everyone to watch and the fly fishing was amazing really cried at the end it was so sad and you know what they say if you cry at a film it must have been good and this definitely was also <UNK> to the two little boy's that played the <UNK> of norman and paul they were just brilliant children are often left out of the <UNK> list i think because the stars that play them all grown up are such a big profile for the whole film but these children are amazing and should be praised for what they have done don't you think the whole story was so lovely because it was true and was someone's life after all that was shared with us all\""
      ]
     },
     "execution_count": 7,
     "metadata": {},
     "output_type": "execute_result"
    }
   ],
   "source": [
    "# decode the first review in the training dataset\n",
    "decode_review(train_data[0])"
   ]
  },
  {
   "cell_type": "markdown",
   "metadata": {},
   "source": [
    "## Prepare the data\n",
    "Make all reviews the same length by padding them to 256 (max length), then create an integer tensor of shape `max_length * num_reviews`."
   ]
  },
  {
   "cell_type": "code",
   "execution_count": 8,
   "metadata": {},
   "outputs": [],
   "source": [
    "train_data = keras.preprocessing.sequence.pad_sequences(train_data,\n",
    "                                                        value=word_index[\"<PAD>\"],\n",
    "                                                        padding='post',\n",
    "                                                        maxlen=256)\n",
    "\n",
    "test_data = keras.preprocessing.sequence.pad_sequences(test_data,\n",
    "                                                       value=word_index[\"<PAD>\"],\n",
    "                                                       padding='post',\n",
    "                                                       maxlen=256)"
   ]
  },
  {
   "cell_type": "code",
   "execution_count": 9,
   "metadata": {},
   "outputs": [
    {
     "data": {
      "text/plain": [
       "(256, 256)"
      ]
     },
     "execution_count": 9,
     "metadata": {},
     "output_type": "execute_result"
    }
   ],
   "source": [
    "# check the length of the examples\n",
    "len(train_data[0]), len(train_data[1])"
   ]
  },
  {
   "cell_type": "code",
   "execution_count": 10,
   "metadata": {},
   "outputs": [
    {
     "name": "stdout",
     "output_type": "stream",
     "text": [
      "[   1   14   22   16   43  530  973 1622 1385   65  458 4468   66 3941\n",
      "    4  173   36  256    5   25  100   43  838  112   50  670    2    9\n",
      "   35  480  284    5  150    4  172  112  167    2  336  385   39    4\n",
      "  172 4536 1111   17  546   38   13  447    4  192   50   16    6  147\n",
      " 2025   19   14   22    4 1920 4613  469    4   22   71   87   12   16\n",
      "   43  530   38   76   15   13 1247    4   22   17  515   17   12   16\n",
      "  626   18    2    5   62  386   12    8  316    8  106    5    4 2223\n",
      " 5244   16  480   66 3785   33    4  130   12   16   38  619    5   25\n",
      "  124   51   36  135   48   25 1415   33    6   22   12  215   28   77\n",
      "   52    5   14  407   16   82    2    8    4  107  117 5952   15  256\n",
      "    4    2    7 3766    5  723   36   71   43  530  476   26  400  317\n",
      "   46    7    4    2 1029   13  104   88    4  381   15  297   98   32\n",
      " 2071   56   26  141    6  194 7486   18    4  226   22   21  134  476\n",
      "   26  480    5  144   30 5535   18   51   36   28  224   92   25  104\n",
      "    4  226   65   16   38 1334   88   12   16  283    5   16 4472  113\n",
      "  103   32   15   16 5345   19  178   32    0    0    0    0    0    0\n",
      "    0    0    0    0    0    0    0    0    0    0    0    0    0    0\n",
      "    0    0    0    0    0    0    0    0    0    0    0    0    0    0\n",
      "    0    0    0    0]\n"
     ]
    }
   ],
   "source": [
    "# see the (padded) first review\n",
    "print(train_data[0])"
   ]
  },
  {
   "cell_type": "markdown",
   "metadata": {},
   "source": [
    "## Build the model"
   ]
  },
  {
   "cell_type": "code",
   "execution_count": 11,
   "metadata": {},
   "outputs": [
    {
     "name": "stdout",
     "output_type": "stream",
     "text": [
      "_________________________________________________________________\n",
      "Layer (type)                 Output Shape              Param #   \n",
      "=================================================================\n",
      "embedding (Embedding)        (None, None, 16)          160000    \n",
      "_________________________________________________________________\n",
      "global_average_pooling1d (Gl (None, 16)                0         \n",
      "_________________________________________________________________\n",
      "dense (Dense)                (None, 16)                272       \n",
      "_________________________________________________________________\n",
      "dense_1 (Dense)              (None, 1)                 17        \n",
      "=================================================================\n",
      "Total params: 160,289\n",
      "Trainable params: 160,289\n",
      "Non-trainable params: 0\n",
      "_________________________________________________________________\n"
     ]
    }
   ],
   "source": [
    "# input shape is the vocabulary count used for the movie reviews (10,000 words)\n",
    "vocab_size = 10000\n",
    "\n",
    "model = keras.Sequential()\n",
    "model.add(keras.layers.Embedding(vocab_size, 16))\n",
    "model.add(keras.layers.GlobalAveragePooling1D())\n",
    "model.add(keras.layers.Dense(16, activation=tf.nn.relu))\n",
    "model.add(keras.layers.Dense(1, activation=tf.nn.sigmoid))\n",
    "\n",
    "model.summary()"
   ]
  },
  {
   "cell_type": "code",
   "execution_count": 12,
   "metadata": {},
   "outputs": [],
   "source": [
    "# configure optimizer and loss function\n",
    "model.compile(optimizer=tf.train.AdamOptimizer(),\n",
    "              loss='binary_crossentropy',\n",
    "              metrics=['accuracy'])"
   ]
  },
  {
   "cell_type": "markdown",
   "metadata": {},
   "source": [
    "## Create a validation set"
   ]
  },
  {
   "cell_type": "code",
   "execution_count": 13,
   "metadata": {},
   "outputs": [],
   "source": [
    "x_val = train_data[:10000]\n",
    "partial_x_train = train_data[10000:]\n",
    "\n",
    "y_val = train_labels[:10000]\n",
    "partial_y_train = train_labels[10000:]"
   ]
  },
  {
   "cell_type": "markdown",
   "metadata": {},
   "source": [
    "## Train the model\n",
    "Train for 40 epochs (i.e. iterations over all samples) in mini-batches of 512 samples. While training, monitor the model's loss and accuracy on the 10,000 samples in the validation set."
   ]
  },
  {
   "cell_type": "code",
   "execution_count": 14,
   "metadata": {},
   "outputs": [
    {
     "name": "stdout",
     "output_type": "stream",
     "text": [
      "Train on 15000 samples, validate on 10000 samples\n",
      "Epoch 1/40\n",
      "15000/15000 [==============================] - 7s 474us/step - loss: 0.6917 - acc: 0.5808 - val_loss: 0.6898 - val_acc: 0.6296\n",
      "Epoch 2/40\n",
      "15000/15000 [==============================] - 6s 428us/step - loss: 0.6860 - acc: 0.7139 - val_loss: 0.6821 - val_acc: 0.7417\n",
      "Epoch 3/40\n",
      "15000/15000 [==============================] - 6s 410us/step - loss: 0.6743 - acc: 0.7629 - val_loss: 0.6675 - val_acc: 0.7613\n",
      "Epoch 4/40\n",
      "15000/15000 [==============================] - 5s 348us/step - loss: 0.6533 - acc: 0.7729 - val_loss: 0.6435 - val_acc: 0.7662\n",
      "Epoch 5/40\n",
      "15000/15000 [==============================] - 6s 377us/step - loss: 0.6209 - acc: 0.7951 - val_loss: 0.6086 - val_acc: 0.7848\n",
      "Epoch 6/40\n",
      "15000/15000 [==============================] - 6s 397us/step - loss: 0.5792 - acc: 0.8121 - val_loss: 0.5681 - val_acc: 0.8005\n",
      "Epoch 7/40\n",
      "15000/15000 [==============================] - 6s 374us/step - loss: 0.5323 - acc: 0.8294 - val_loss: 0.5251 - val_acc: 0.8177\n",
      "Epoch 8/40\n",
      "15000/15000 [==============================] - 6s 377us/step - loss: 0.4851 - acc: 0.8445 - val_loss: 0.4837 - val_acc: 0.8317\n",
      "Epoch 9/40\n",
      "15000/15000 [==============================] - 6s 398us/step - loss: 0.4415 - acc: 0.8573 - val_loss: 0.4469 - val_acc: 0.8422\n",
      "Epoch 10/40\n",
      "15000/15000 [==============================] - 6s 373us/step - loss: 0.4024 - acc: 0.8717 - val_loss: 0.4161 - val_acc: 0.8490\n",
      "Epoch 11/40\n",
      "15000/15000 [==============================] - 5s 329us/step - loss: 0.3697 - acc: 0.8806 - val_loss: 0.3929 - val_acc: 0.8552\n",
      "Epoch 12/40\n",
      "15000/15000 [==============================] - 7s 474us/step - loss: 0.3424 - acc: 0.8867 - val_loss: 0.3701 - val_acc: 0.8614\n",
      "Epoch 13/40\n",
      "15000/15000 [==============================] - 6s 404us/step - loss: 0.3179 - acc: 0.8943 - val_loss: 0.3543 - val_acc: 0.8668\n",
      "Epoch 14/40\n",
      "15000/15000 [==============================] - 6s 392us/step - loss: 0.2977 - acc: 0.8998 - val_loss: 0.3402 - val_acc: 0.8720\n",
      "Epoch 15/40\n",
      "15000/15000 [==============================] - 5s 365us/step - loss: 0.2802 - acc: 0.9043 - val_loss: 0.3293 - val_acc: 0.8737\n",
      "Epoch 16/40\n",
      "15000/15000 [==============================] - 6s 397us/step - loss: 0.2653 - acc: 0.9073 - val_loss: 0.3204 - val_acc: 0.8764\n",
      "Epoch 17/40\n",
      "15000/15000 [==============================] - 7s 480us/step - loss: 0.2509 - acc: 0.9145 - val_loss: 0.3130 - val_acc: 0.8778\n",
      "Epoch 18/40\n",
      "15000/15000 [==============================] - 7s 436us/step - loss: 0.2384 - acc: 0.9191 - val_loss: 0.3068 - val_acc: 0.8811\n",
      "Epoch 19/40\n",
      "15000/15000 [==============================] - 8s 527us/step - loss: 0.2269 - acc: 0.9229 - val_loss: 0.3017 - val_acc: 0.8824\n",
      "Epoch 20/40\n",
      "15000/15000 [==============================] - 6s 399us/step - loss: 0.2168 - acc: 0.9253 - val_loss: 0.2977 - val_acc: 0.8824\n",
      "Epoch 21/40\n",
      "15000/15000 [==============================] - 8s 511us/step - loss: 0.2068 - acc: 0.9291 - val_loss: 0.2942 - val_acc: 0.8832\n",
      "Epoch 22/40\n",
      "15000/15000 [==============================] - 7s 474us/step - loss: 0.1978 - acc: 0.9329 - val_loss: 0.2918 - val_acc: 0.8831\n",
      "Epoch 23/40\n",
      "15000/15000 [==============================] - 6s 395us/step - loss: 0.1895 - acc: 0.9357 - val_loss: 0.2901 - val_acc: 0.8834\n",
      "Epoch 24/40\n",
      "15000/15000 [==============================] - 6s 384us/step - loss: 0.1812 - acc: 0.9409 - val_loss: 0.2878 - val_acc: 0.8847\n",
      "Epoch 25/40\n",
      "15000/15000 [==============================] - 5s 353us/step - loss: 0.1740 - acc: 0.9438 - val_loss: 0.2866 - val_acc: 0.8847\n",
      "Epoch 26/40\n",
      "15000/15000 [==============================] - 6s 387us/step - loss: 0.1667 - acc: 0.9465 - val_loss: 0.2862 - val_acc: 0.8848\n",
      "Epoch 27/40\n",
      "15000/15000 [==============================] - 6s 393us/step - loss: 0.1606 - acc: 0.9496 - val_loss: 0.2861 - val_acc: 0.8858\n",
      "Epoch 28/40\n",
      "15000/15000 [==============================] - 6s 421us/step - loss: 0.1541 - acc: 0.9524 - val_loss: 0.2856 - val_acc: 0.8868\n",
      "Epoch 29/40\n",
      "15000/15000 [==============================] - 6s 431us/step - loss: 0.1482 - acc: 0.9539 - val_loss: 0.2856 - val_acc: 0.8862\n",
      "Epoch 30/40\n",
      "15000/15000 [==============================] - 6s 381us/step - loss: 0.1430 - acc: 0.9561 - val_loss: 0.2865 - val_acc: 0.8866\n",
      "Epoch 31/40\n",
      "15000/15000 [==============================] - 7s 444us/step - loss: 0.1369 - acc: 0.9597 - val_loss: 0.2876 - val_acc: 0.8864\n",
      "Epoch 32/40\n",
      "15000/15000 [==============================] - 7s 450us/step - loss: 0.1321 - acc: 0.9615 - val_loss: 0.2890 - val_acc: 0.8872\n",
      "Epoch 33/40\n",
      "15000/15000 [==============================] - 7s 482us/step - loss: 0.1266 - acc: 0.9639 - val_loss: 0.2905 - val_acc: 0.8864\n",
      "Epoch 34/40\n",
      "15000/15000 [==============================] - 6s 392us/step - loss: 0.1221 - acc: 0.9657 - val_loss: 0.2922 - val_acc: 0.8854\n",
      "Epoch 35/40\n",
      "15000/15000 [==============================] - 6s 370us/step - loss: 0.1179 - acc: 0.9662 - val_loss: 0.2937 - val_acc: 0.8863\n",
      "Epoch 36/40\n",
      "15000/15000 [==============================] - 6s 399us/step - loss: 0.1129 - acc: 0.9689 - val_loss: 0.2962 - val_acc: 0.8859\n",
      "Epoch 37/40\n",
      "15000/15000 [==============================] - 5s 366us/step - loss: 0.1089 - acc: 0.9700 - val_loss: 0.2988 - val_acc: 0.8857\n",
      "Epoch 38/40\n",
      "15000/15000 [==============================] - 6s 430us/step - loss: 0.1054 - acc: 0.9701 - val_loss: 0.3010 - val_acc: 0.8850\n",
      "Epoch 39/40\n",
      "15000/15000 [==============================] - 8s 522us/step - loss: 0.1009 - acc: 0.9721 - val_loss: 0.3035 - val_acc: 0.8842\n",
      "Epoch 40/40\n",
      "15000/15000 [==============================] - 7s 478us/step - loss: 0.0971 - acc: 0.9743 - val_loss: 0.3063 - val_acc: 0.8839\n"
     ]
    }
   ],
   "source": [
    "history = model.fit(partial_x_train,\n",
    "                    partial_y_train,\n",
    "                    epochs=40,\n",
    "                    batch_size=512,\n",
    "                    validation_data=(x_val, y_val),\n",
    "                    verbose=1)"
   ]
  },
  {
   "cell_type": "markdown",
   "metadata": {},
   "source": [
    "## Evaluate the model\n",
    "Check how the model performs on the test dataset. Two values are returned: Loss (i.e. our error (lower is better)) and Accuracy (higher is better)"
   ]
  },
  {
   "cell_type": "code",
   "execution_count": 15,
   "metadata": {},
   "outputs": [
    {
     "name": "stdout",
     "output_type": "stream",
     "text": [
      "25000/25000 [==============================] - 9s 342us/step\n",
      "[0.3261696086788177, 0.87276]\n"
     ]
    }
   ],
   "source": [
    "results = model.evaluate(test_data, test_labels)\n",
    "\n",
    "print(results)"
   ]
  },
  {
   "cell_type": "markdown",
   "metadata": {},
   "source": [
    "## Plot accuracy and loss over time"
   ]
  },
  {
   "cell_type": "code",
   "execution_count": 16,
   "metadata": {},
   "outputs": [
    {
     "data": {
      "text/plain": [
       "dict_keys(['val_loss', 'val_acc', 'loss', 'acc'])"
      ]
     },
     "execution_count": 16,
     "metadata": {},
     "output_type": "execute_result"
    }
   ],
   "source": [
    "history_dict = history.history\n",
    "history_dict.keys()"
   ]
  },
  {
   "cell_type": "code",
   "execution_count": 18,
   "metadata": {},
   "outputs": [
    {
     "data": {
      "image/png": "[encoded data removed]",
      "text/plain": [
       "<matplotlib.figure.Figure at 0x7f7099bdfcf8>"
      ]
     },
     "metadata": {},
     "output_type": "display_data"
    }
   ],
   "source": [
    "acc = history.history['acc']\n",
    "val_acc = history.history['val_acc']\n",
    "loss = history.history['loss']\n",
    "val_loss = history.history['val_loss']\n",
    "\n",
    "epochs = range(1, len(acc) + 1)\n",
    "\n",
    "# \"bo\" is for \"blue dot\"\n",
    "plt.plot(epochs, loss, 'bo', label='Training loss')\n",
    "# b is for \"solid blue line\"\n",
    "plt.plot(epochs, val_loss, 'b', label='Validation loss')\n",
    "plt.title('Training and validation loss')\n",
    "plt.xlabel('Epochs')\n",
    "plt.ylabel('Loss')\n",
    "plt.legend()\n",
    "\n",
    "plt.show()"
   ]
  },
  {
   "cell_type": "code",
   "execution_count": 19,
   "metadata": {},
   "outputs": [
    {
     "data": {
      "image/png": "[encoded data removed]",
      "text/plain": [
       "<matplotlib.figure.Figure at 0x7f7099bdf7f0>"
      ]
     },
     "metadata": {},
     "output_type": "display_data"
    }
   ],
   "source": [
    "plt.clf()   # clear figure\n",
    "acc_values = history_dict['acc']\n",
    "val_acc_values = history_dict['val_acc']\n",
    "\n",
    "plt.plot(epochs, acc, 'bo', label='Training acc')\n",
    "plt.plot(epochs, val_acc, 'b', label='Validation acc')\n",
    "plt.title('Training and validation accuracy')\n",
    "plt.xlabel('Epochs')\n",
    "plt.ylabel('Accuracy')\n",
    "plt.legend()\n",
    "\n",
    "plt.show()"
   ]
  },
  {
   "cell_type": "code",
   "execution_count": 20,
   "metadata": {},
   "outputs": [],
   "source": [
    "#@title MIT License\n",
    "#\n",
    "# Copyright (c) 2017 François Chollet\n",
    "#\n",
    "# Permission is hereby granted, free of charge, to any person obtaining a\n",
    "# copy of this software and associated documentation files (the \"Software\"),\n",
    "# to deal in the Software without restriction, including without limitation\n",
    "# the rights to use, copy, modify, merge, publish, distribute, sublicense,\n",
    "# and/or sell copies of the Software, and to permit persons to whom the\n",
    "# Software is furnished to do so, subject to the following conditions:\n",
    "#\n",
    "# The above copyright notice and this permission notice shall be included in\n",
    "# all copies or substantial portions of the Software.\n",
    "#\n",
    "# THE SOFTWARE IS PROVIDED \"AS IS\", WITHOUT WARRANTY OF ANY KIND, EXPRESS OR\n",
    "# IMPLIED, INCLUDING BUT NOT LIMITED TO THE WARRANTIES OF MERCHANTABILITY,\n",
    "# FITNESS FOR A PARTICULAR PURPOSE AND NONINFRINGEMENT. IN NO EVENT SHALL\n",
    "# THE AUTHORS OR COPYRIGHT HOLDERS BE LIABLE FOR ANY CLAIM, DAMAGES OR OTHER\n",
    "# LIABILITY, WHETHER IN AN ACTION OF CONTRACT, TORT OR OTHERWISE, ARISING\n",
    "# FROM, OUT OF OR IN CONNECTION WITH THE SOFTWARE OR THE USE OR OTHER\n",
    "# DEALINGS IN THE SOFTWARE."
   ]
  },
  {
   "cell_type": "code",
   "execution_count": null,
   "metadata": {},
   "outputs": [],
   "source": []
  }
 ],
 "metadata": {
  "kernelspec": {
   "display_name": "Python 3",
   "language": "python",
   "name": "python3"
  },
  "language_info": {
   "codemirror_mode": {
    "name": "ipython",
    "version": 3
   },
   "file_extension": ".py",
   "mimetype": "text/x-python",
   "name": "python",
   "nbconvert_exporter": "python",
   "pygments_lexer": "ipython3",
   "version": "3.6.5"
  }
 },
 "nbformat": 4,
 "nbformat_minor": 2
}
